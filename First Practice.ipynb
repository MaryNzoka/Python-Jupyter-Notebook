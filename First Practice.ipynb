{
 "cells": [
  {
   "cell_type": "markdown",
   "id": "f64dc3f7",
   "metadata": {},
   "source": [
    "<h1 style=\"font-size:3rem;color:orange;\">Jupyter Notebook Tutorial</h1>"
   ]
  },
  {
   "cell_type": "markdown",
   "id": "ec29da28",
   "metadata": {},
   "source": [
    "## Python for beginners"
   ]
  },
  {
   "cell_type": "markdown",
   "id": "86905a1f",
   "metadata": {},
   "source": [
    "## Insert a variable into a string"
   ]
  },
  {
   "cell_type": "markdown",
   "id": "3b008065",
   "metadata": {},
   "source": [
    "## Let's Go"
   ]
  },
  {
   "cell_type": "markdown",
   "id": "23d89e2e",
   "metadata": {},
   "source": [
    "# Part 1"
   ]
  },
  {
   "cell_type": "code",
   "execution_count": 1,
   "id": "0eefb8cb",
   "metadata": {},
   "outputs": [
    {
     "name": "stdout",
     "output_type": "stream",
     "text": [
      "Hello World!\n"
     ]
    }
   ],
   "source": [
    "print(\"Hello World!\")"
   ]
  },
  {
   "cell_type": "code",
   "execution_count": 2,
   "id": "32b73a91",
   "metadata": {},
   "outputs": [
    {
     "name": "stdout",
     "output_type": "stream",
     "text": [
      "This is my first Python code.\n"
     ]
    }
   ],
   "source": [
    "print(\"This is my first Python code.\")"
   ]
  },
  {
   "cell_type": "code",
   "execution_count": null,
   "id": "52ed2d8c",
   "metadata": {},
   "outputs": [],
   "source": [
    "person = input(\"What's your name?\")\n",
    "Message = \"Hello, {}!\".format(person)\n",
    "print(message)"
   ]
  },
  {
   "cell_type": "code",
   "execution_count": null,
   "id": "e12cbdf3",
   "metadata": {},
   "outputs": [],
   "source": []
  }
 ],
 "metadata": {
  "kernelspec": {
   "display_name": "Python 3 (ipykernel)",
   "language": "python",
   "name": "python3"
  },
  "language_info": {
   "codemirror_mode": {
    "name": "ipython",
    "version": 3
   },
   "file_extension": ".py",
   "mimetype": "text/x-python",
   "name": "python",
   "nbconvert_exporter": "python",
   "pygments_lexer": "ipython3",
   "version": "3.11.2"
  }
 },
 "nbformat": 4,
 "nbformat_minor": 5
}
